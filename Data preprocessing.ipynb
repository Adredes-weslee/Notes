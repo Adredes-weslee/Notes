{
 "cells": [
  {
   "cell_type": "markdown",
   "id": "0094d90f-3569-477f-b56b-86ca990574ad",
   "metadata": {},
   "source": [
    "# Data Inspection\n",
    "\n",
    "Steps to take:\n",
    "1. Check the first 5 rows of each dataframe\n",
    "2. Check the last 5 rows of each dataframe\n",
    "3. Check the shape (rows and columns)\n",
    "4. Check for duplicate rows, drop duplicates if found \n"
   ]
  },
  {
   "cell_type": "code",
   "execution_count": null,
   "id": "d0f9412f-ef8a-4be3-8944-0d7580d6b270",
   "metadata": {},
   "outputs": [],
   "source": [
    "# Print first 5 rows\n",
    "df.head()"
   ]
  },
  {
   "cell_type": "code",
   "execution_count": null,
   "id": "bc6ab13d-7b17-493b-b6a5-dc2ca217b9ec",
   "metadata": {},
   "outputs": [],
   "source": [
    "# Print last 5 rows\n",
    "df.tail()"
   ]
  },
  {
   "cell_type": "code",
   "execution_count": null,
   "id": "5641e8b5-f065-4725-8042-e08ed1693c6c",
   "metadata": {},
   "outputs": [],
   "source": [
    "# Check shape\n",
    "df.shape"
   ]
  },
  {
   "cell_type": "code",
   "execution_count": null,
   "id": "8b9fdd71-3633-42fb-99ba-267df8dca29e",
   "metadata": {},
   "outputs": [],
   "source": [
    "# Find duplicate rows across all columns. Note that this compares all the columns with each other, instead of for example, 'Sales\n",
    "# Order No.' against 'Inventory Code'\n",
    "\n",
    "df[df.duplicated()]\n",
    "\n",
    "# Drop duplicate rows\n",
    "df.drop_duplicates(inplace=True)"
   ]
  },
  {
   "cell_type": "markdown",
   "id": "ea9c981a-9893-43a4-a5e3-8b40a50e018f",
   "metadata": {},
   "source": [
    "On Duplicates\n",
    "To identify plausible combinations of columns for duplicates, consider the logical relationships between columns and how duplicates might realistically occur. Here are some plausible combinations for checking duplicates in your dataset:\n",
    "\n",
    "1. Sales Order No. and Inventory Code: Each sales order should ideally have unique inventory codes. Duplicates here could indicate repeated entries for the same item in the same order.\n",
    "2. Customer Code and Inventory Code: This combination checks if the same customer ordered the same inventory item multiple times, which might be plausible for repeated purchases.\n",
    "3. Customer Code, Transaction Date, and Inventory Code: This combination checks if the same customer ordered the same inventory item on the same date, which could indicate duplicate transactions.\n",
    "4. Sales Order No. and Customer Code: Each sales order should be associated with a unique customer. Duplicates here could indicate repeated entries for the same order by the same customer.\n",
    "5. Sales Order No. and Transaction Date: Each sales order on a given date should be unique. Duplicates here could indicate repeated entries for the same order on the same date.\n",
    "6. Customer Code and Transaction Date: This combination checks if the same customer made multiple transactions on the same date, which might be plausible for frequent customers.\n",
    "7. Inventory Code and Transaction Date: This combination checks if the same inventory item was ordered multiple times on the same date, which might be plausible for high-demand items.\n",
    "\n",
    "Using these combinations, you can focus on more relevant checks for duplicates\n"
   ]
  },
  {
   "cell_type": "markdown",
   "id": "36d2aa26-90ba-4b0a-b275-1f5a311679bb",
   "metadata": {},
   "source": [
    "## Code to Check for Plausible Duplicates"
   ]
  },
  {
   "cell_type": "code",
   "execution_count": null,
   "id": "8255120b-c86a-441b-94d9-aae4f29a30b9",
   "metadata": {},
   "outputs": [],
   "source": [
    "import pandas as pd\n",
    "from itertools import combinations\n",
    "\n",
    "# Your dataframe df (assuming it is already loaded)\n",
    "\n",
    "# Function to find duplicates for given columns\n",
    "def find_duplicates(df, columns):\n",
    "    # Find duplicate rows including the originals\n",
    "    duplicates = df[df.duplicated(subset=columns, keep=False)]\n",
    "    if not duplicates.empty:\n",
    "        print(f\"Duplicates found with columns: {columns}\")\n",
    "        print(duplicates)\n",
    "    return duplicates\n",
    "\n",
    "# List of plausible combinations\n",
    "plausible_combinations = [\n",
    "    ['Sales Order No.', 'Inventory Code'],\n",
    "    ['Customer Code', 'Inventory Code'],\n",
    "    ['Customer Code', 'Transaction Date', 'Inventory Code'],\n",
    "    ['Sales Order No.', 'Customer Code'],\n",
    "    ['Sales Order No.', 'Transaction Date'],\n",
    "    ['Customer Code', 'Transaction Date'],\n",
    "    ['Inventory Code', 'Transaction Date']\n",
    "]\n",
    "\n",
    "# Check for duplicates using plausible combinations\n",
    "all_duplicate_results = []\n",
    "\n",
    "for combo in plausible_combinations:\n",
    "    duplicates = find_duplicates(df, combo)\n",
    "    if not duplicates.empty:\n",
    "        all_duplicate_results.append((combo, duplicates))"
   ]
  },
  {
   "cell_type": "code",
   "execution_count": null,
   "id": "cd625c32-e253-4c59-a30c-6eb93eeccd46",
   "metadata": {},
   "outputs": [],
   "source": []
  },
  {
   "cell_type": "markdown",
   "id": "3a051cbf-557d-49db-8d2f-268d6484b982",
   "metadata": {},
   "source": [
    "# Data Preprocessing\n",
    "\n",
    "The following will outline the steps taken for each column:\n",
    "\n",
    "1. Use a custom function to\n",
    "- Check datatype\n",
    "- Check number of missing values\n",
    "- Check unique values\n",
    "- Check number of unique values\n",
    "- Check value counts of each unique value\n",
    "2. Perform data preprocessing (cleaning)\n",
    "- Drop rows with missing values\n",
    "- Check for improbable or nonsensical values and perform the necessary corrections\n",
    "- Rename values if necessary\n",
    "3. Engineer new features depending on the column and its meaning\n",
    "4. Drop columns if the column really has no predictive value based on research, or if column was used to engineer new features and is no longer needed"
   ]
  },
  {
   "cell_type": "code",
   "execution_count": null,
   "id": "2fa86594-cf7f-4f59-b9ef-fabbac45f83c",
   "metadata": {},
   "outputs": [],
   "source": [
    "# Create function for data inspection which will print the datatype, the number of missing values, the unique values, \n",
    "# the number of unique values and the value count of each unique value \n",
    "\n",
    "def data_inspector(df, start=0, stop=2):\n",
    "    col_names = [i for i in df.columns]\n",
    "    for index, col in enumerate(col_names[start:stop]):\n",
    "        print(col, '\\n')\n",
    "        print(f'Datatype: {df[col].dtypes}', '\\n')\n",
    "        print(f'Number of missing values: {df[col].isna().sum()}', '\\n')\n",
    "        print(df[col].unique(), '\\n')\n",
    "        print(f'Number of unique values: {df[col].nunique()}', '\\n')\n",
    "        print(df[col].value_counts(), '\\n')\n",
    "        print('---BREAK---', '\\n')\n",
    "    "
   ]
  },
  {
   "cell_type": "code",
   "execution_count": null,
   "id": "ef329cf5-cf97-4b30-9734-27fb13d7110f",
   "metadata": {},
   "outputs": [],
   "source": [
    "# To use, increment the start and stop parameter in steps of 1\n",
    "data_inspector(df, start=0, stop=1)\n",
    "# Eg for next column,\n",
    "data_inspector(df, start=1, stop=2)"
   ]
  },
  {
   "cell_type": "markdown",
   "id": "96df2d42-ac96-4af4-851b-299185a34a92",
   "metadata": {},
   "source": [
    "# What to look out for"
   ]
  },
  {
   "cell_type": "markdown",
   "id": "8a00098d-bcdb-4511-a88e-f3a167a0feaf",
   "metadata": {},
   "source": [
    "## Negative values if there shouldn't be any any vice versa"
   ]
  },
  {
   "cell_type": "code",
   "execution_count": null,
   "id": "4435bc67-5dc5-4b28-9fc9-9720c11b707d",
   "metadata": {},
   "outputs": [],
   "source": [
    "# Check rows with negative values for Call Duration (change column name)\n",
    "df[df['example colum name '] < 0]"
   ]
  },
  {
   "cell_type": "code",
   "execution_count": null,
   "id": "638dd798-2166-4ade-bd16-2fe01bb13ff6",
   "metadata": {},
   "outputs": [],
   "source": [
    "# To convert to absolute values (removes -ve sign)\n",
    "df['example colum nname'] = df['example colum name'].abs()"
   ]
  },
  {
   "cell_type": "markdown",
   "id": "8ad5a5cd-97b1-49e8-b52c-889a75b740e2",
   "metadata": {},
   "source": [
    "## Features not cast as appropriate datatype"
   ]
  },
  {
   "cell_type": "code",
   "execution_count": null,
   "id": "6afddf07-9021-44de-911c-bb81e21b0dc8",
   "metadata": {},
   "outputs": [],
   "source": [
    "# Convert 'Timestamp' column, for instance, to datetime\n",
    "df['Timestamp'] = pd.to_datetime(df['Timestamp'])"
   ]
  }
 ],
 "metadata": {
  "kernelspec": {
   "display_name": "Python 3 (ipykernel)",
   "language": "python",
   "name": "python3"
  },
  "language_info": {
   "codemirror_mode": {
    "name": "ipython",
    "version": 3
   },
   "file_extension": ".py",
   "mimetype": "text/x-python",
   "name": "python",
   "nbconvert_exporter": "python",
   "pygments_lexer": "ipython3",
   "version": "3.11.5"
  }
 },
 "nbformat": 4,
 "nbformat_minor": 5
}
